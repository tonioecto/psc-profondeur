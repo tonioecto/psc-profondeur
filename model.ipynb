{
 "cells": [
  {
   "cell_type": "markdown",
   "metadata": {},
   "source": [
    "We import necessairy packages"
   ]
  },
  {
   "cell_type": "code",
   "execution_count": 5,
   "metadata": {
    "collapsed": false
   },
   "outputs": [
    {
     "data": {
      "text/plain": [
       "CRN net\n",
       "nn.Sequential {\n",
       "  [input -> (1) -> output]\n",
       "  (1): nn.SpatialConvolution(1 -> 2, 3x1)\n",
       "}\t\n",
       "CRN net\n",
       "nn.Sequential {\n",
       "  [input -> (1) -> output]\n",
       "  (1): nn.Identity\n",
       "}\t\n"
      ]
     },
     "execution_count": 5,
     "metadata": {},
     "output_type": "execute_result"
    }
   ],
   "source": [
    "require 'nn' --\n",
    "\n",
    "model = nn.Sequential()\n",
    "model:add(nn.SpatialConvolution(1, 2, 3,1))\n",
    "\n",
    "print('CRN net\\n' .. model:__tostring())\n",
    "\n",
    "model:replace(function(module)\n",
    "   if torch.typename(module) == 'nn.SpatialConvolution'\n",
    "            or (torch.typename(module) == 'nn.View'\n",
    "            or torch.typename(module) == 'nn.Linear') then\n",
    "      return nn.Identity()\n",
    "   else\n",
    "      return module\n",
    "   end\n",
    "end)\n",
    "\n",
    "print('CRN net\\n' .. model:__tostring())\n"
   ]
  },
  {
   "cell_type": "code",
   "execution_count": 6,
   "metadata": {
    "collapsed": false
   },
   "outputs": [
    {
     "data": {
      "text/plain": [
       " 5\n",
       " 2\n",
       " 3\n",
       " 4\n",
       "[torch.LongStorage of size 4]\n",
       "\n"
      ]
     },
     "execution_count": 6,
     "metadata": {},
     "output_type": "execute_result"
    }
   ],
   "source": [
    "model = nn.SpatialBatchNormalization(2)\n",
    "A = torch.randn(5, 2, 3, 4)\n",
    "C = model:forward(A)  -- C will be of size `b x m x h x w`\n",
    "print(#C)"
   ]
  },
  {
   "cell_type": "markdown",
   "metadata": {},
   "source": [
    "### *Global Architecture*\n",
    "<p>![](https://raw.githubusercontent.com/tonioecto/psc-profondeur/model_version_1/images/general_structure.png)"
   ]
  },
  {
   "cell_type": "markdown",
   "metadata": {},
   "source": [
    "*Equation to compute input feature*\n",
    "<p>$owidth  = floor((width  + 2*padW - kW) / dW + 1)$\n",
    "<p>$oheight = floor((height + 2*padH - kH) / dH + 1)$"
   ]
  },
  {
   "cell_type": "markdown",
   "metadata": {},
   "source": [
    "### *ConvBlock 1 ---- d1 to d2 of ResNet50*\n",
    "<p>![](https://raw.githubusercontent.com/tonioecto/psc-profondeur/model_version_1/images/typical_structure_1.png)"
   ]
  },
  {
   "cell_type": "code",
   "execution_count": 3,
   "metadata": {
    "collapsed": true
   },
   "outputs": [],
   "source": [
    "function convBlock1(d0, d1, d2)\n",
    "    local cat = nn.ConcatTable()\n",
    "    \n",
    "    local branch1 = nn.Sequential()\n",
    "    branch1:add(nn.SpatialConvolution(d0, d1, 1, 1))\n",
    "    -- branch1:add(nn.SpatialBatchNormalization(d1))\n",
    "    branch1:add(nn.ReLU())\n",
    "    branch1:add(nn.SpatialConvolution(d1, d1, 3, 3, 1, 1, 1, 1))\n",
    "    -- branch1:add(nn.SpatialBatchNormalization(d1))\n",
    "    branch1:add(nn.ReLU())\n",
    "    branch1:add(nn.SpatialConvolution(d1, d2, 1, 1))\n",
    "    -- branch1:add(SpatialBatchNormalization(d2))\n",
    "    local branch2 = nn.Sequential()\n",
    "    \n",
    "    branch2:add(nn.Identity())\n",
    "    \n",
    "    cat:add(branch1)\n",
    "    cat:add(branch2)\n",
    "    \n",
    "    net:add(cat)\n",
    "    net:add(nn.CAddTable())\n",
    "    net:add(nn.ReLU)\n",
    "end"
   ]
  },
  {
   "cell_type": "markdown",
   "metadata": {},
   "source": [
    "### *ConvBlock 2 ----- d1 to d2 of ResNet50*\n",
    "<p>![](https://raw.githubusercontent.com/tonioecto/psc-profondeur/model_version_1/images/typical_structure_2.png)"
   ]
  },
  {
   "cell_type": "code",
   "execution_count": 4,
   "metadata": {
    "collapsed": true
   },
   "outputs": [],
   "source": [
    "function convBlock2(s, d0, d1, d2)\n",
    "    local cat = nn.ConcatTable()\n",
    "    \n",
    "    local branch1 = nn.Sequential()\n",
    "    branch1:add(nn.SpatialConvolution(d0, d1, 1, 1, s, s))\n",
    "    --branch1:add(nn.SpatialBatchNormalization(d1))\n",
    "    branch1:add(nn.ReLU())\n",
    "    branch1:add(nn.SpatialConvolution(d1, d1, 3, 3, 1, 1, 1, 1))\n",
    "    -- branch1:add(nn.SpatialBatchNormalization(d1))\n",
    "    branch1:add(nn.ReLU())\n",
    "    branch1:add(nn.SpatialConvolution(d1, d2, 1, 1, 1, 1))\n",
    "    -- branch1:add(nn.SpatialBatchNormalization(d2))\n",
    "    \n",
    "    local branch2 = nn.Sequential()\n",
    "    branch2:add(nn.SpatialConvolution(d0, d2, 1, 1, s, s))\n",
    "    -- branch2:add(nn.SpatialBatchNormalization(d2))\n",
    "    \n",
    "    cat:add(branch1)\n",
    "    cat:add(branch2)\n",
    "    \n",
    "    net:add(cat)\n",
    "    net:add(nn.CAddTable())\n",
    "    net:add(nn.ReLU())\n",
    "end"
   ]
  },
  {
   "cell_type": "markdown",
   "metadata": {},
   "source": [
    "### *up-projection*\n",
    "<p> ![](https://raw.githubusercontent.com/tonioecto/psc-profondeur/model_version_1/images/up_projection.png)\n",
    "<p> $owidth  = (width  - 1) * dW - 2*padW + kW + adjW$\n",
    "<p> $oheight = (height - 1) * dH - 2*padH + kH + adjH$\n",
    "<p> module = nn.SpatialReflectionPadding(padLeft, padRight, padTop, padBottom)\n",
    "<p> module = nn.SpatialFullConvolution(nInputPlane, nOutputPlane, kW, kH, [dW], [dH], [padW], [padH], [adjW], [adjH])"
   ]
  },
  {
   "cell_type": "code",
   "execution_count": 87,
   "metadata": {
    "collapsed": false,
    "scrolled": false
   },
   "outputs": [],
   "source": [
    "-- implement simple version of up-convolution\n",
    "function upConvolution(net, d1, d2)\n",
    "    net:add(nn.SpatialZeroPadding(0, 1, 0, 1))\n",
    "    net:add(nn.SpatialFullConvolution(d1, d2, 5, 5, 2, 2, 2, 2))\n",
    "    net:add(nn.SpatialZeroPadding(0, -1, 0, -1))\n",
    "    net:add(nn.ReLU())\n",
    "end"
   ]
  },
  {
   "cell_type": "code",
   "execution_count": null,
   "metadata": {
    "collapsed": true
   },
   "outputs": [],
   "source": [
    "-- implement simple version of up-projection\n",
    "function upProjection(net, d1, d2)\n",
    "    local cat = nn.ConcatTable()\n",
    "    \n",
    "    local branch1 = nn.Sequential()\n",
    "    branch1:add(nn.SpatialZeroPadding(0, 1, 0, 1))\n",
    "    branch1:add(nn.SpatialFullConvolution(d1, d2, 5, 5, 2, 2, 2, 2))\n",
    "    branch1:add(nn.SpatialZeroPadding(0, -1, 0, -1))\n",
    "    branch1:add(nn.ReLU())\n",
    "    branch1:add(nn.SpatialConvolution(d2, d2, 3, 3, 1, 1, 1, 1))\n",
    "    \n",
    "    local branch2 = nn.Sequential()\n",
    "    branch2:add(nn.SpatialZeroPadding(0, 1, 0, 1))\n",
    "    branch2:add(nn.SpatialFullConvolution(d1, d2, 5, 5, 2, 2, 2, 2))\n",
    "    branch2:add(nn.SpatialZeroPadding(0, -1, 0, -1))\n",
    "    \n",
    "    cat:add(branch1)\n",
    "    cat:add(branch2)\n",
    "    net:add(cat)\n",
    "    net:add(nn.CAddTable())\n",
    "    \n",
    "    net:add(nn.ReLU())\n",
    "end"
   ]
  },
  {
   "cell_type": "code",
   "execution_count": 88,
   "metadata": {
    "collapsed": false
   },
   "outputs": [],
   "source": [
    "-- input size 304x228x3\n",
    "-- first part pre-trained by Facebook\n",
    "-- https://github.com/facebook/fb.resnet.torch\n",
    "model_resnet"
   ]
  },
  {
   "cell_type": "code",
   "execution_count": null,
   "metadata": {
    "collapsed": true
   },
   "outputs": [],
   "source": [
    "\n",
    "-- verify resnet-50 structure\n",
    "print('CRN net\\n' .. model_resnet:__tostring())"
   ]
  },
  {
   "cell_type": "code",
   "execution_count": null,
   "metadata": {
    "collapsed": true
   },
   "outputs": [],
   "source": [
    "-- Second step : different kinds of up-projection implementations\n",
    "net = nn.Sequential()\n",
    "net:add(model_resnet)\n",
    "\n",
    "d0\n",
    "net:add(nn.SpatialConvolution(d0, d0, 1, 1, 1, 1))\n",
    "--net:add(nn.BatchNormalization())\n",
    "\n",
    "--build up projection blocks\n",
    "up_projection = nn.Sequential()\n",
    "upProjection(up_projection, 1024, 512)\n",
    "upProjection(up_projection, 512, 256)\n",
    "upProjection(up_projection, 256, 128)\n",
    "upProjection(up_projection, 128, 64)\n",
    "\n",
    "net:add(up_projection)\n",
    "\n",
    "d_final = 64\n",
    "net:add(nn.SpatialConvolution(d_final, 1, 3, 3, 1, 1, 1, 1))\n",
    "net:add(nn.ReLU())"
   ]
  },
  {
   "cell_type": "code",
   "execution_count": null,
   "metadata": {
    "collapsed": true
   },
   "outputs": [],
   "source": [
    "-- loss function B(berHu)\n",
    "-- https://github.com/Kaixhin/Atari/blob/master/modules/HuberCriterion.lua"
   ]
  }
 ],
 "metadata": {
  "kernelspec": {
   "display_name": "iTorch",
   "language": "lua",
   "name": "itorch"
  },
  "language_info": {
   "name": "lua",
   "version": "5.1"
  }
 },
 "nbformat": 4,
 "nbformat_minor": 0
}
