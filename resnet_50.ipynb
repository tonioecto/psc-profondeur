{
 "cells": [
  {
   "cell_type": "markdown",
   "metadata": {
    "collapsed": true
   },
   "source": [
    "Convert a CUDA model to a CPU one"
   ]
  },
  {
   "cell_type": "code",
   "execution_count": 19,
   "metadata": {
    "collapsed": false
   },
   "outputs": [
    {
     "data": {
      "text/plain": [
       "CRN net\n",
       "nn.Sequential {\n",
       "  [input -> (1) -> output]\n",
       "  (1): nn.ReLU\n",
       "}\t\n"
      ]
     },
     "execution_count": 19,
     "metadata": {},
     "output_type": "execute_result"
    }
   ],
   "source": [
    "require 'nn'\n",
    "-- load pretrained ResNet-50 model implemented by facebook\n",
    "-- based on ImageNet Dataset\n",
    "model = torch.load('resnet-50.t7')\n",
    "-- try to convert CUDA model to a CPU version for computers without GPU\n",
    "model = model:float()\n",
    "--print pre-trained ResNet model to observe its structure\n",
    "print('CRN net\\n' .. model:__tostring())"
   ]
  },
  {
   "cell_type": "code",
   "execution_count": 20,
   "metadata": {
    "collapsed": false
   },
   "outputs": [
    {
     "data": {
      "text/plain": [
       "1\t\n",
       "1\t\n"
      ]
     },
     "execution_count": 20,
     "metadata": {},
     "output_type": "execute_result"
    }
   ],
   "source": [
    "--delete extra final ReLU module \n",
    "threshold_nodes, container_nodes = model:findModules('nn.ReLU')\n",
    "for i = 1, #threshold_nodes do\n",
    "    print(i)\n",
    "  -- Search the container for the current threshold node\n",
    "  for j = 1, #(container_nodes[i].modules) do\n",
    "        print(j)\n",
    "    if container_nodes[i].modules[j] == threshold_nodes[i] then\n",
    "      -- Replace with a new instance\n",
    "      container_nodes[i].modules[j] = nn.Tanh()\n",
    "    end\n",
    "  end\n",
    "end"
   ]
  },
  {
   "cell_type": "code",
   "execution_count": null,
   "metadata": {
    "collapsed": true
   },
   "outputs": [],
   "source": [
    "--delete Avg : Average Pooling Module\n",
    "--delete View Module\n",
    "--delete Linear Module\n",
    "model:replace(function(module)\n",
    "   if torch.typename(module) == 'nn.SpatialAveragePooling'\n",
    "            or torch.typename(module) == 'nn.View'\n",
    "            or torch.typename(module) == 'nn.Linear'\n",
    "      return nn.Identity()\n",
    "   else\n",
    "      return module\n",
    "   end\n",
    "end)"
   ]
  },
  {
   "cell_type": "code",
   "execution_count": 18,
   "metadata": {
    "collapsed": false
   },
   "outputs": [
    {
     "data": {
      "text/plain": [
       "CRN net\n",
       "nn.Sequential {\n",
       "  [input -> (1) -> output]\n",
       "  (1): nn.Tanh\n",
       "}\t\n"
      ]
     },
     "execution_count": 18,
     "metadata": {},
     "output_type": "execute_result"
    }
   ],
   "source": [
    "--verify new structure of ResNet-50\n",
    "print('CRN net\\n' .. model:__tostring())"
   ]
  }
 ],
 "metadata": {
  "kernelspec": {
   "display_name": "iTorch",
   "language": "lua",
   "name": "itorch"
  },
  "language_info": {
   "name": "lua",
   "version": "5.1"
  }
 },
 "nbformat": 4,
 "nbformat_minor": 0
}
