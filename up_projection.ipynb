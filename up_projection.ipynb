{
 "cells": [
  {
   "cell_type": "code",
   "execution_count": null,
   "metadata": {
    "collapsed": false
   },
   "outputs": [],
   "source": [
    "require 'nn'    --import nn packages"
   ]
  },
  {
   "cell_type": "markdown",
   "metadata": {},
   "source": [
    "### *up-projection*\n",
    "<p> ![](https://raw.githubusercontent.com/tonioecto/psc-profondeur/model_version_1/images/up_projection.png)\n",
    "<p> $owidth  = (width  - 1) * dW - 2*padW + kW + adjW$\n",
    "<p> $oheight = (height - 1) * dH - 2*padH + kH + adjH$\n",
    "<p> module = nn.SpatialReflectionPadding(padLeft, padRight, padTop, padBottom)\n",
    "<p> module = nn.SpatialFullConvolution(nInputPlane, nOutputPlane, kW, kH, [dW], [dH], [padW], [padH], [adjW], [adjH])"
   ]
  },
  {
   "cell_type": "code",
   "execution_count": 33,
   "metadata": {
    "collapsed": false,
    "scrolled": false
   },
   "outputs": [],
   "source": [
    "-- implement simple version of up-convolution\n",
    "function upConvolution(net, d1, d2)\n",
    "    net:add(nn.SpatialZeroPadding(0, 1, 0, 1))\n",
    "    net:add(nn.SpatialFullConvolution(d1, d2, 5, 5, 2, 2, 2, 2))\n",
    "    net:add(nn.SpatialZeroPadding(0, -1, 0, -1))\n",
    "    \n",
    "    net:add(nn.ReLU())\n",
    "end"
   ]
  },
  {
   "cell_type": "code",
   "execution_count": 34,
   "metadata": {
    "collapsed": false,
    "scrolled": true
   },
   "outputs": [],
   "source": [
    "-- implement simple version of up-projection\n",
    "function upProjection(net, d1, d2)\n",
    "    local cat = nn.ConcatTable()\n",
    "    \n",
    "    local branch1 = nn.Sequential()\n",
    "    branch1:add(nn.SpatialZeroPadding(0, 1, 0, 1))\n",
    "    branch1:add(nn.SpatialFullConvolution(d1, d2, 5, 5, 2, 2, 2, 2))\n",
    "    branch1:add(nn.SpatialZeroPadding(0, -1, 0, -1))\n",
    "    branch1:add(nn.ReLU())\n",
    "    branch1:add(nn.SpatialConvolution(d2, d2, 3, 3, 1, 1, 1, 1))\n",
    "    \n",
    "    local branch2 = nn.Sequential()\n",
    "    branch2:add(nn.SpatialZeroPadding(0, 1, 0, 1))\n",
    "    branch2:add(nn.SpatialFullConvolution(d1, d2, 5, 5, 2, 2, 2, 2))\n",
    "    branch2:add(nn.SpatialZeroPadding(0, -1, 0, -1))\n",
    "    \n",
    "    cat:add(branch1)\n",
    "    cat:add(branch2)\n",
    "    net:add(cat)\n",
    "    net:add(nn.CAddTable())\n",
    "    \n",
    "    net:add(nn.ReLU())\n",
    "end"
   ]
  },
  {
   "cell_type": "markdown",
   "metadata": {},
   "source": [
    "### The implementation of up_projection"
   ]
  },
  {
   "cell_type": "code",
   "execution_count": 35,
   "metadata": {
    "collapsed": false
   },
   "outputs": [
    {
     "data": {
      "text/plain": [
       "CRN net\n",
       "nn.Sequential {\n",
       "  [input -> (1) -> (2) -> (3) -> output]\n",
       "  (1): nn.Sequential {\n",
       "    [input -> (1) -> (2) -> (3) -> (4) -> (5) -> (6) -> (7) -> (8) -> (9) -> (10) -> (11) -> (12) -> output]\n",
       "    (1): nn.ConcatTable {\n",
       "      input\n",
       "        |`-> (1): nn.Sequential {\n",
       "        |      [input -> (1) -> (2) -> (3) -> (4) -> (5) -> output]\n",
       "        |      (1): nn.SpatialZeroPadding(l=0, r=1, t=0, b=1)\n",
       "        |      (2): nn.SpatialFullConvolution(1024 -> 512, 5x5, 2,2, 2,2)\n",
       "        |      (3): nn.SpatialZeroPadding(l=0, r=-1, t=0, b=-1)\n",
       "        |      (4): nn.ReLU\n",
       "        |      (5): nn.SpatialConvolution(512 -> 512, 3x3, 1,1, 1,1)\n",
       "        |    }\n",
       "         `-> (2): nn.Sequential {\n",
       "               [input -> (1) -> (2) -> (3) -> output]\n",
       "               (1): nn.SpatialZeroPadding(l=0, r=1, t=0, b=1)\n",
       "               (2): nn.SpatialFullConvolution(1024 -> 512, 5x5, 2,2, 2,2)\n",
       "               (3): nn.SpatialZeroPadding(l=0, r=-1, t=0, b=-1)\n",
       "             }\n",
       "         ... -> output\n",
       "    }\n",
       "    (2): nn.CAddTable\n",
       "    (3): nn.ReLU\n",
       "    (4): nn.ConcatTable {\n",
       "      input\n",
       "        |`-> (1): nn.Sequential {\n",
       "        |      [input -> (1) -> (2) -> (3) -> (4) -> (5) -> output]\n",
       "        |      (1): nn.SpatialZeroPadding(l=0, r=1, t=0, b=1)\n",
       "        |      (2): nn.SpatialFullConvolution(512 -> 256, 5x5, 2,2, 2,2)\n",
       "        |      (3): nn.SpatialZeroPadding(l=0, r=-1, t=0, b=-1)\n",
       "        |      (4): nn.ReLU\n",
       "        |      (5): nn.SpatialConvolution(256 -> 256, 3x3, 1,1, 1,1)\n",
       "        |    }\n",
       "         `-> (2): nn.Sequential {\n",
       "               [input -> (1) -> (2) -> (3) -> output]\n",
       "               (1): nn.SpatialZeroPadding(l=0, r=1, t=0, b=1)\n",
       "               (2): nn.SpatialFullConvolution(512 -> 256, 5x5, 2,2, 2,2)\n",
       "               (3): nn.SpatialZeroPadding(l=0, r=-1, t=0, b=-1)\n",
       "             }\n",
       "         ... -> output\n",
       "    }\n",
       "    (5): nn.CAddTable\n",
       "    (6): nn.ReLU\n",
       "    (7): nn.ConcatTable {\n",
       "      input\n",
       "        |`-> (1): nn.Sequential {\n",
       "        |      [input -> (1) -> (2) -> (3) -> (4) -> (5) -> output]\n",
       "        |      (1): nn.SpatialZeroPadding(l=0, r=1, t=0, b=1)\n",
       "        |      (2): nn.SpatialFullConvolution(256 -> 128, 5x5, 2,2, 2,2)\n",
       "        |      (3): nn.SpatialZeroPadding(l=0, r=-1, t=0, b=-1)\n",
       "        |      (4): nn.ReLU\n",
       "        |      (5): nn.SpatialConvolution(128 -> 128, 3x3, 1,1, 1,1)\n",
       "        |    }\n",
       "         `-> (2): nn.Sequential {\n",
       "               [input -> (1) -> (2) -> (3) -> output]\n",
       "               (1): nn.SpatialZeroPadding(l=0, r=1, t=0, b=1)\n",
       "               (2): nn.SpatialFullConvolution(256 -> 128, 5x5, 2,2, 2,2)\n",
       "               (3): nn.SpatialZeroPadding(l=0, r=-1, t=0, b=-1)\n",
       "             }\n",
       "         ... -> output\n",
       "    }\n",
       "    (8): nn.CAddTable\n",
       "    (9): nn.ReLU\n",
       "    (10): nn.ConcatTable {\n",
       "      input\n",
       "        |`-> (1): nn.Sequential {\n",
       "        |      [input -> (1) -> (2) -> (3) -> (4) -> (5) -> output]\n",
       "        |      (1): nn.SpatialZeroPadding(l=0, r=1, t=0, b=1)\n",
       "        |      (2): nn.SpatialFullConvolution(128 -> 64, 5x5, 2,2, 2,2)\n",
       "        |      (3): nn.SpatialZeroPadding(l=0, r=-1, t=0, b=-1)\n",
       "        |      (4): nn.ReLU\n",
       "        |      (5): nn.SpatialConvolution(64 -> 64, 3x3, 1,1, 1,1)\n",
       "        |    }\n",
       "         `-> (2): nn.Sequential {\n",
       "               [input -> (1) -> (2) -> (3) -> output]\n",
       "               (1): nn.SpatialZeroPadding(l=0, r=1, t=0, b=1)\n",
       "               (2): nn.SpatialFullConvolution(128 -> 64, 5x5, 2,2, 2,2)\n",
       "               (3): nn.SpatialZeroPadding(l=0, r=-1, t=0, b=-1)\n",
       "             }\n",
       "         ... -> output\n",
       "    }\n",
       "    (11): nn.CAddTable\n",
       "    (12): nn.ReLU\n",
       "  }\n",
       "  (2): nn.SpatialConvolution(64 -> 1, 3x3, 1,1, 1,1)\n",
       "  (3): nn.ReLU\n",
       "}\t\n"
      ]
     },
     "execution_count": 35,
     "metadata": {},
     "output_type": "execute_result"
    }
   ],
   "source": [
    "-- input size 304x228x3\n",
    "-- for the first part, we use pre-trained ResNet-50 built by facebook\n",
    "\n",
    "-- Second step : different kinds of up-projection implementation\n",
    "\n",
    "--build up projection blocks\n",
    "up_projection = nn.Sequential()\n",
    "upProjection(up_projection, 1024, 512)\n",
    "upProjection(up_projection, 512, 256)\n",
    "upProjection(up_projection, 256, 128)\n",
    "upProjection(up_projection, 128, 64)\n",
    "\n",
    "net = nn.Sequential()\n",
    "\n",
    "net:add(up_projection)\n",
    "\n",
    "d_final = 64\n",
    "net:add(nn.SpatialConvolution(d_final, 1, 3, 3, 1, 1, 1, 1))\n",
    "net:add(nn.ReLU())\n",
    "\n",
    "print('CRN net\\n' .. net:__tostring())"
   ]
  },
  {
   "cell_type": "code",
   "execution_count": 37,
   "metadata": {
    "collapsed": false,
    "scrolled": false
   },
   "outputs": [
    {
     "data": {
      "text/plain": [
       " 1024\n",
       "   10\n",
       "    8\n",
       "[torch.LongStorage of size 3]\n",
       "\n"
      ]
     },
     "execution_count": 37,
     "metadata": {},
     "output_type": "execute_result"
    },
    {
     "data": {
      "text/plain": [
       "   1\n",
       " 160\n",
       " 128\n",
       "[torch.LongStorage of size 3]\n",
       "\n"
      ]
     },
     "execution_count": 37,
     "metadata": {},
     "output_type": "execute_result"
    }
   ],
   "source": [
    "--test the network\n",
    "test_tensor = torch.rand(1024, 10, 8)\n",
    "print(#test_tensor)\n",
    "test_output = net:forward(test_tensor)\n",
    "print(#test_output)"
   ]
  }
 ],
 "metadata": {
  "kernelspec": {
   "display_name": "iTorch",
   "language": "lua",
   "name": "itorch"
  },
  "language_info": {
   "name": "lua",
   "version": "5.1"
  }
 },
 "nbformat": 4,
 "nbformat_minor": 0
}
